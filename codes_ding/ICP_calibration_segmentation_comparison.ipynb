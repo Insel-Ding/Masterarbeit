{
 "cells": [
  {
   "cell_type": "markdown",
   "id": "e38cc0e0",
   "metadata": {},
   "source": [
    "### Parameter"
   ]
  },
  {
   "cell_type": "code",
   "execution_count": 1,
   "metadata": {},
   "outputs": [
    {
     "name": "stdout",
     "output_type": "stream",
     "text": [
      "Jupyter environment detected. Enabling Open3D WebVisualizer.\n",
      "[Open3D INFO] WebRTC GUI backend enabled.\n",
      "[Open3D INFO] WebRTCWindowSystem: HTTP handshake server disabled.\n"
     ]
    }
   ],
   "source": [
    "import open3d as o3d\n",
    "import numpy as np\n",
    "import os\n",
    "import copy\n",
    "import ICP_utilities as uti\n",
    "\n",
    "#parameters\n",
    "model_path = r'C:\\Users\\dings\\Documents\\Masterarbeit\\models'\n",
    "stl_path= os.path.join(model_path,'obergesenk.stl')\n",
    "ply_path= os.path.join(model_path,'obergesenk_gescannt.ply') \n",
    "source = o3d.io.read_point_cloud(ply_path)\n",
    "mesh = o3d.io.read_triangle_mesh(stl_path)\n",
    "target = o3d.geometry.PointCloud(mesh.vertices)\n",
    "trans_init=[[1,0,0,0],\n",
    "            [0,1,0,0],    \n",
    "            [0,0,1,0],            \n",
    "            [0,0,0,1],]\n",
    "\n",
    "num_iteration = 50\n",
    "threshold = 30\n",
    "threshold_calib = 0.01\n",
    "\n"
   ]
  },
  {
   "cell_type": "markdown",
   "id": "0d187a58",
   "metadata": {},
   "source": [
    "### Calibration"
   ]
  },
  {
   "cell_type": "code",
   "execution_count": 2,
   "id": "f81d72a3",
   "metadata": {},
   "outputs": [
    {
     "name": "stdout",
     "output_type": "stream",
     "text": [
      "finetune registration after the rough registration\n",
      "Visualization of two rough registed point clouds before finetune\n",
      "press 'q' to continue\n",
      "\n",
      "chose No. 1 coordinate of 5 total in source and press 'q' to continue\n",
      "\n",
      "1) Please pick points using [shift + left click]\n",
      "   Press [shift + right click] to undo point picking\n",
      "2) After picking points, press 'Q' to close the window\n",
      "[Open3D INFO] Picked point #69553 (27., 19., -1.1e+02) to add in queue.\n",
      "chose No. 1 coordinate of 5 total in target and press 'q' to continue\n",
      "\n",
      "1) Please pick points using [shift + left click]\n",
      "   Press [shift + right click] to undo point picking\n",
      "2) After picking points, press 'Q' to close the window\n",
      "[Open3D INFO] Picked point #125072 (27., 20., -1.1e+02) to add in queue.\n",
      "chose No. 2 coordinate of 5 total in source and press 'q' to continue\n",
      "\n",
      "1) Please pick points using [shift + left click]\n",
      "   Press [shift + right click] to undo point picking\n",
      "2) After picking points, press 'Q' to close the window\n",
      "[Open3D INFO] Picked point #58893 (28., -18., -1.1e+02) to add in queue.\n",
      "chose No. 2 coordinate of 5 total in target and press 'q' to continue\n",
      "\n",
      "1) Please pick points using [shift + left click]\n",
      "   Press [shift + right click] to undo point picking\n",
      "2) After picking points, press 'Q' to close the window\n",
      "[Open3D INFO] Picked point #125999 (27., -18., -1.1e+02) to add in queue.\n",
      "chose No. 3 coordinate of 5 total in source and press 'q' to continue\n",
      "\n",
      "1) Please pick points using [shift + left click]\n",
      "   Press [shift + right click] to undo point picking\n",
      "2) After picking points, press 'Q' to close the window\n",
      "[Open3D INFO] Picked point #11400 (-16., -28., -1.1e+02) to add in queue.\n",
      "chose No. 3 coordinate of 5 total in target and press 'q' to continue\n",
      "\n",
      "1) Please pick points using [shift + left click]\n",
      "   Press [shift + right click] to undo point picking\n",
      "2) After picking points, press 'Q' to close the window\n",
      "[Open3D INFO] Picked point #127394 (-17., -28., -1.1e+02) to add in queue.\n",
      "chose No. 4 coordinate of 5 total in source and press 'q' to continue\n",
      "\n",
      "1) Please pick points using [shift + left click]\n",
      "   Press [shift + right click] to undo point picking\n",
      "2) After picking points, press 'Q' to close the window\n",
      "[Open3D INFO] Picked point #40712 (-33., 0.62, -1.1e+02) to add in queue.\n",
      "chose No. 4 coordinate of 5 total in target and press 'q' to continue\n",
      "\n",
      "1) Please pick points using [shift + left click]\n",
      "   Press [shift + right click] to undo point picking\n",
      "2) After picking points, press 'Q' to close the window\n",
      "[Open3D INFO] Picked point #122771 (-34., 0.75, -1.1e+02) to add in queue.\n",
      "chose No. 5 coordinate of 5 total in source and press 'q' to continue\n",
      "\n",
      "1) Please pick points using [shift + left click]\n",
      "   Press [shift + right click] to undo point picking\n",
      "2) After picking points, press 'Q' to close the window\n",
      "[Open3D INFO] Picked point #27770 (-21., 25., -1.1e+02) to add in queue.\n",
      "chose No. 5 coordinate of 5 total in target and press 'q' to continue\n",
      "\n",
      "1) Please pick points using [shift + left click]\n",
      "   Press [shift + right click] to undo point picking\n",
      "2) After picking points, press 'Q' to close the window\n",
      "[Open3D INFO] Picked point #90625 (-23., 27., -1.1e+02) to add in queue.\n",
      "[Open3D INFO] Remove picked point #90625 from pick queue.\n",
      "[Open3D INFO] Picked point #90623 (-23., 27., -1.1e+02) to add in queue.\n",
      "[Open3D INFO] Remove picked point #90623 from pick queue.\n",
      "[Open3D INFO] Picked point #90623 (-23., 27., -1.1e+02) to add in queue.\n",
      "[Open3D INFO] Remove picked point #90623 from pick queue.\n",
      "[Open3D INFO] Picked point #123567 (-22., 25., -1.1e+02) to add in queue.\n",
      "corr1 = %s [[ 69553. 125072.]\n",
      " [ 58893. 125999.]\n",
      " [ 11400. 127394.]\n",
      " [ 40712. 122771.]\n",
      " [ 27770. 123567.]]\n",
      "3 point clouds saved in path: C:\\Users\\dings\\Documents\\Masterarbeit\\models\n"
     ]
    }
   ],
   "source": [
    "if __name__ == \"__main__\":\n",
    "    #low_noise_source = uti.rauchen_eliminieren(source,nb_points=25,radius=3)\n",
    "    down_sample_source = source.uniform_down_sample(every_k_points=3)\n",
    "    #----step by step----:\n",
    "    #registed_source,target = uti.icp_algo_step_by_step(source=source, target=target, threshold=threshold, trans_init=trans_init, num_iteration=num_iteration)\n",
    "    #----quick show----:\n",
    "    registed_source,target = uti.icp_algo(source=source, target=target, threshold=threshold, trans_init=trans_init,max_iteration=num_iteration)\n",
    "    \n",
    "    #----calibration----:\n",
    "    registed_source,target = uti.calibration_after_rough_reg(source=registed_source,target=target,threshold=threshold_calib,num_samples=5)\n",
    "    o3d.io.write_point_cloud(os.path.join(model_path,\"reg_source.ply\"),registed_source)\n",
    "    o3d.io.write_point_cloud(os.path.join(model_path,\"reg_target.ply\"),target)\n",
    "    o3d.io.write_point_cloud(os.path.join(model_path,\"registed_both.ply\"),registed_source+target)\n",
    "    #uti.compute_dists(source=registed_source,target=target,tolerance=0.4)\n",
    "    print(\"3 point clouds saved in path: %s\"%(model_path))\n",
    "    \n",
    "    \n",
    "    "
   ]
  },
  {
   "cell_type": "markdown",
   "id": "b68318ca",
   "metadata": {},
   "source": [
    "### Segmentation"
   ]
  },
  {
   "cell_type": "code",
   "execution_count": 3,
   "id": "c3d15e2e",
   "metadata": {},
   "outputs": [
    {
     "name": "stdout",
     "output_type": "stream",
     "text": [
      "segmentieren...\n",
      "cropped file saved in path:C:\\Users\\dings\\Documents\\Masterarbeit\\models\n"
     ]
    }
   ],
   "source": [
    "    print(\"segmentieren...\")\n",
    "    o3d.visualization.draw_geometries_with_editing([registed_source])\n",
    "    print(\"cropped file saved in path:%s\"%(model_path))\n"
   ]
  },
  {
   "cell_type": "markdown",
   "id": "b2963506",
   "metadata": {},
   "source": [
    "### Comparison"
   ]
  },
  {
   "cell_type": "code",
   "execution_count": null,
   "id": "778b856d",
   "metadata": {},
   "outputs": [],
   "source": [
    "    #Set cropped reference json coodinates\n",
    "    reference_json_cood = os.path.join(model_path,\"cropped_3.json\")\n",
    "    uti.segments_compare(registed_source,target,reference_json_cood,tolerance=0.4)"
   ]
  }
 ],
 "metadata": {
  "kernelspec": {
   "display_name": "Python 3.8.13 ('Masterarbeit1')",
   "language": "python",
   "name": "python3"
  },
  "language_info": {
   "codemirror_mode": {
    "name": "ipython",
    "version": 3
   },
   "file_extension": ".py",
   "mimetype": "text/x-python",
   "name": "python",
   "nbconvert_exporter": "python",
   "pygments_lexer": "ipython3",
   "version": "3.8.13"
  },
  "vscode": {
   "interpreter": {
    "hash": "9c425fa2bc0ccd08c85c470ab307b2739858121c250fb7d966d91f84e62eec0f"
   }
  }
 },
 "nbformat": 4,
 "nbformat_minor": 5
}
